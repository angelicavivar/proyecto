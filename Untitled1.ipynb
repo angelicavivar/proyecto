{
  "nbformat": 4,
  "nbformat_minor": 0,
  "metadata": {
    "colab": {
      "provenance": [],
      "include_colab_link": true
    },
    "kernelspec": {
      "name": "python3",
      "display_name": "Python 3"
    },
    "language_info": {
      "name": "python"
    }
  },
  "cells": [
    {
      "cell_type": "markdown",
      "metadata": {
        "id": "view-in-github",
        "colab_type": "text"
      },
      "source": [
        "<a href=\"https://colab.research.google.com/github/angelicavivar/proyecto/blob/main/Untitled1.ipynb\" target=\"_parent\"><img src=\"https://colab.research.google.com/assets/colab-badge.svg\" alt=\"Open In Colab\"/></a>"
      ]
    },
    {
      "cell_type": "code",
      "source": [
        "pip install pandas\n"
      ],
      "metadata": {
        "colab": {
          "base_uri": "https://localhost:8080/"
        },
        "id": "cj-zIOoEnnA-",
        "outputId": "1378f96b-4104-48c6-9673-e13ccfa975d0"
      },
      "execution_count": null,
      "outputs": [
        {
          "output_type": "stream",
          "name": "stdout",
          "text": [
            "Looking in indexes: https://pypi.org/simple, https://us-python.pkg.dev/colab-wheels/public/simple/\n",
            "Requirement already satisfied: pandas in /usr/local/lib/python3.10/dist-packages (1.5.3)\n",
            "Requirement already satisfied: python-dateutil>=2.8.1 in /usr/local/lib/python3.10/dist-packages (from pandas) (2.8.2)\n",
            "Requirement already satisfied: pytz>=2020.1 in /usr/local/lib/python3.10/dist-packages (from pandas) (2022.7.1)\n",
            "Requirement already satisfied: numpy>=1.21.0 in /usr/local/lib/python3.10/dist-packages (from pandas) (1.22.4)\n",
            "Requirement already satisfied: six>=1.5 in /usr/local/lib/python3.10/dist-packages (from python-dateutil>=2.8.1->pandas) (1.16.0)\n"
          ]
        }
      ]
    },
    {
      "cell_type": "code",
      "execution_count": null,
      "metadata": {
        "id": "oLrfzmz1bYIt"
      },
      "outputs": [],
      "source": [
        "import pandas as pd \n",
        "import numpy as np\n",
        "import matplotlib.pyplot as plt\n",
        "\n"
      ]
    },
    {
      "cell_type": "code",
      "source": [
        "url = (\"https://raw.githubusercontent.com/AndresCarretero/ProyectoEstadistica/main/vamos.csv\")\n",
        "df = pd.read_csv(url)\n",
        "df.head()"
      ],
      "metadata": {
        "id": "T41PtN7ahiQ3",
        "colab": {
          "base_uri": "https://localhost:8080/",
          "height": 206
        },
        "outputId": "bfaf7815-1e24-4ca5-fc60-23f38ab3d271"
      },
      "execution_count": null,
      "outputs": [
        {
          "output_type": "execute_result",
          "data": {
            "text/plain": [
              "  AIRPORT CODE  VERIZON  SPRINT  AT&T  T-MOBILE\n",
              "0          RSW     38.5    13.0   9.7       8.6\n",
              "1          ORD     55.6    30.4   8.2       7.0\n",
              "2          SNA     22.4    15.2   7.1      18.5\n",
              "3          MEM     14.1     2.4  14.4      16.7\n",
              "4          MKE     23.1     2.7  13.4       5.6"
            ],
            "text/html": [
              "\n",
              "  <div id=\"df-06185f12-146a-403f-9a8b-0f7a8d9c2346\">\n",
              "    <div class=\"colab-df-container\">\n",
              "      <div>\n",
              "<style scoped>\n",
              "    .dataframe tbody tr th:only-of-type {\n",
              "        vertical-align: middle;\n",
              "    }\n",
              "\n",
              "    .dataframe tbody tr th {\n",
              "        vertical-align: top;\n",
              "    }\n",
              "\n",
              "    .dataframe thead th {\n",
              "        text-align: right;\n",
              "    }\n",
              "</style>\n",
              "<table border=\"1\" class=\"dataframe\">\n",
              "  <thead>\n",
              "    <tr style=\"text-align: right;\">\n",
              "      <th></th>\n",
              "      <th>AIRPORT CODE</th>\n",
              "      <th>VERIZON</th>\n",
              "      <th>SPRINT</th>\n",
              "      <th>AT&amp;T</th>\n",
              "      <th>T-MOBILE</th>\n",
              "    </tr>\n",
              "  </thead>\n",
              "  <tbody>\n",
              "    <tr>\n",
              "      <th>0</th>\n",
              "      <td>RSW</td>\n",
              "      <td>38.5</td>\n",
              "      <td>13.0</td>\n",
              "      <td>9.7</td>\n",
              "      <td>8.6</td>\n",
              "    </tr>\n",
              "    <tr>\n",
              "      <th>1</th>\n",
              "      <td>ORD</td>\n",
              "      <td>55.6</td>\n",
              "      <td>30.4</td>\n",
              "      <td>8.2</td>\n",
              "      <td>7.0</td>\n",
              "    </tr>\n",
              "    <tr>\n",
              "      <th>2</th>\n",
              "      <td>SNA</td>\n",
              "      <td>22.4</td>\n",
              "      <td>15.2</td>\n",
              "      <td>7.1</td>\n",
              "      <td>18.5</td>\n",
              "    </tr>\n",
              "    <tr>\n",
              "      <th>3</th>\n",
              "      <td>MEM</td>\n",
              "      <td>14.1</td>\n",
              "      <td>2.4</td>\n",
              "      <td>14.4</td>\n",
              "      <td>16.7</td>\n",
              "    </tr>\n",
              "    <tr>\n",
              "      <th>4</th>\n",
              "      <td>MKE</td>\n",
              "      <td>23.1</td>\n",
              "      <td>2.7</td>\n",
              "      <td>13.4</td>\n",
              "      <td>5.6</td>\n",
              "    </tr>\n",
              "  </tbody>\n",
              "</table>\n",
              "</div>\n",
              "      <button class=\"colab-df-convert\" onclick=\"convertToInteractive('df-06185f12-146a-403f-9a8b-0f7a8d9c2346')\"\n",
              "              title=\"Convert this dataframe to an interactive table.\"\n",
              "              style=\"display:none;\">\n",
              "        \n",
              "  <svg xmlns=\"http://www.w3.org/2000/svg\" height=\"24px\"viewBox=\"0 0 24 24\"\n",
              "       width=\"24px\">\n",
              "    <path d=\"M0 0h24v24H0V0z\" fill=\"none\"/>\n",
              "    <path d=\"M18.56 5.44l.94 2.06.94-2.06 2.06-.94-2.06-.94-.94-2.06-.94 2.06-2.06.94zm-11 1L8.5 8.5l.94-2.06 2.06-.94-2.06-.94L8.5 2.5l-.94 2.06-2.06.94zm10 10l.94 2.06.94-2.06 2.06-.94-2.06-.94-.94-2.06-.94 2.06-2.06.94z\"/><path d=\"M17.41 7.96l-1.37-1.37c-.4-.4-.92-.59-1.43-.59-.52 0-1.04.2-1.43.59L10.3 9.45l-7.72 7.72c-.78.78-.78 2.05 0 2.83L4 21.41c.39.39.9.59 1.41.59.51 0 1.02-.2 1.41-.59l7.78-7.78 2.81-2.81c.8-.78.8-2.07 0-2.86zM5.41 20L4 18.59l7.72-7.72 1.47 1.35L5.41 20z\"/>\n",
              "  </svg>\n",
              "      </button>\n",
              "      \n",
              "  <style>\n",
              "    .colab-df-container {\n",
              "      display:flex;\n",
              "      flex-wrap:wrap;\n",
              "      gap: 12px;\n",
              "    }\n",
              "\n",
              "    .colab-df-convert {\n",
              "      background-color: #E8F0FE;\n",
              "      border: none;\n",
              "      border-radius: 50%;\n",
              "      cursor: pointer;\n",
              "      display: none;\n",
              "      fill: #1967D2;\n",
              "      height: 32px;\n",
              "      padding: 0 0 0 0;\n",
              "      width: 32px;\n",
              "    }\n",
              "\n",
              "    .colab-df-convert:hover {\n",
              "      background-color: #E2EBFA;\n",
              "      box-shadow: 0px 1px 2px rgba(60, 64, 67, 0.3), 0px 1px 3px 1px rgba(60, 64, 67, 0.15);\n",
              "      fill: #174EA6;\n",
              "    }\n",
              "\n",
              "    [theme=dark] .colab-df-convert {\n",
              "      background-color: #3B4455;\n",
              "      fill: #D2E3FC;\n",
              "    }\n",
              "\n",
              "    [theme=dark] .colab-df-convert:hover {\n",
              "      background-color: #434B5C;\n",
              "      box-shadow: 0px 1px 3px 1px rgba(0, 0, 0, 0.15);\n",
              "      filter: drop-shadow(0px 1px 2px rgba(0, 0, 0, 0.3));\n",
              "      fill: #FFFFFF;\n",
              "    }\n",
              "  </style>\n",
              "\n",
              "      <script>\n",
              "        const buttonEl =\n",
              "          document.querySelector('#df-06185f12-146a-403f-9a8b-0f7a8d9c2346 button.colab-df-convert');\n",
              "        buttonEl.style.display =\n",
              "          google.colab.kernel.accessAllowed ? 'block' : 'none';\n",
              "\n",
              "        async function convertToInteractive(key) {\n",
              "          const element = document.querySelector('#df-06185f12-146a-403f-9a8b-0f7a8d9c2346');\n",
              "          const dataTable =\n",
              "            await google.colab.kernel.invokeFunction('convertToInteractive',\n",
              "                                                     [key], {});\n",
              "          if (!dataTable) return;\n",
              "\n",
              "          const docLinkHtml = 'Like what you see? Visit the ' +\n",
              "            '<a target=\"_blank\" href=https://colab.research.google.com/notebooks/data_table.ipynb>data table notebook</a>'\n",
              "            + ' to learn more about interactive tables.';\n",
              "          element.innerHTML = '';\n",
              "          dataTable['output_type'] = 'display_data';\n",
              "          await google.colab.output.renderOutput(dataTable, element);\n",
              "          const docLink = document.createElement('div');\n",
              "          docLink.innerHTML = docLinkHtml;\n",
              "          element.appendChild(docLink);\n",
              "        }\n",
              "      </script>\n",
              "    </div>\n",
              "  </div>\n",
              "  "
            ]
          },
          "metadata": {},
          "execution_count": 3
        }
      ]
    },
    {
      "cell_type": "code",
      "source": [
        "df"
      ],
      "metadata": {
        "colab": {
          "base_uri": "https://localhost:8080/",
          "height": 1000
        },
        "id": "1G-sv1SJE5FH",
        "outputId": "5925fa28-2102-4b18-d3d3-252cf79bdfed"
      },
      "execution_count": null,
      "outputs": [
        {
          "output_type": "execute_result",
          "data": {
            "text/plain": [
              "   AIRPORT CODE  VERIZON  SPRINT  AT&T  T-MOBILE\n",
              "0           RSW     38.5    13.0   9.7       8.6\n",
              "1           ORD     55.6    30.4   8.2       7.0\n",
              "2           SNA     22.4    15.2   7.1      18.5\n",
              "3           MEM     14.1     2.4  14.4      16.7\n",
              "4           MKE     23.1     2.7  13.4       5.6\n",
              "5           IND     24.5     2.1  30.6       3.2\n",
              "6           DCA      6.5     0.8  14.4      16.2\n",
              "7           LAS     21.5     1.6  17.0       6.9\n",
              "8           CMH     25.7     5.6   3.8      27.3\n",
              "9           PIT     14.7     4.0  12.4      10.1\n",
              "10          ATL     77.8     0.4  33.9      27.3\n",
              "11          MDW     71.3     2.5   5.5      13.3\n",
              "12          BWI     43.0     3.4  12.7       3.2\n",
              "13          RDU     20.2     2.7  11.0       5.4\n",
              "14          FLL     15.5    10.6   4.8       4.3\n",
              "15          SMF     13.7     0.3  17.5      23.5\n",
              "16          SEA     11.1     1.6   8.0      15.0\n",
              "17          IAD     13.5     2.7  14.7       4.2\n",
              "18          MCI     10.2     1.1   9.5      13.5\n",
              "19          LGA     21.1     3.8  13.8       4.7\n",
              "20          CLE     15.1     0.5   7.6      24.7\n",
              "21          MCO     14.2     1.2   9.5      22.2\n",
              "22          PDX      4.5     5.0   6.5      15.0\n",
              "23          CLT      7.9     1.1   9.1       4.4\n",
              "24          TPA      9.9    14.1   5.3      16.1\n",
              "25          DFW     10.3     0.6  10.0      14.8\n",
              "26          BOS      6.2     1.0  11.7       9.6\n",
              "27          SJC     17.5     3.6   2.7       7.4\n",
              "28          MIA     22.2     4.0   4.0       5.0\n",
              "29          DTW     13.1     0.5  22.4       4.4\n",
              "30          LAX     18.2    15.1   3.0       0.7\n",
              "31          AUS     28.5     0.5  29.0       5.1\n",
              "32          SLC     15.8     3.2   4.0       2.8\n",
              "33          HNL     15.0     0.5   5.1      10.9\n",
              "34          HOU     11.1     2.1   2.7       3.6\n",
              "35          DEN     11.8     0.3   8.1      12.7\n",
              "36          OAK     16.0     0.4   6.0      22.5\n",
              "37          IAH     10.9     0.4  10.2      23.8\n",
              "38          PHX      1.8     0.6   7.6      13.3\n",
              "39          DAL     34.6     0.2  37.4       5.1\n",
              "40          JFK      4.6     1.2  21.0       9.8\n",
              "41          SFO     12.0     0.7   2.8       2.5\n",
              "42          SAT     11.6     0.3   4.5      11.7\n",
              "43          STL      3.6     8.2   2.2      17.3\n",
              "44          BNA      1.9     2.3   4.6       9.5\n",
              "45          MSY      7.7     0.3   6.3       1.4\n",
              "46          PHL      0.8     0.5   7.5       5.9\n",
              "47          EWR      4.5     9.6   9.3      13.4\n",
              "48          MSP      1.4     0.3  10.0      16.7\n",
              "49          SAN      3.2     0.3   2.7       2.6"
            ],
            "text/html": [
              "\n",
              "  <div id=\"df-a37a0f23-3d87-46da-85c2-e276668598ae\">\n",
              "    <div class=\"colab-df-container\">\n",
              "      <div>\n",
              "<style scoped>\n",
              "    .dataframe tbody tr th:only-of-type {\n",
              "        vertical-align: middle;\n",
              "    }\n",
              "\n",
              "    .dataframe tbody tr th {\n",
              "        vertical-align: top;\n",
              "    }\n",
              "\n",
              "    .dataframe thead th {\n",
              "        text-align: right;\n",
              "    }\n",
              "</style>\n",
              "<table border=\"1\" class=\"dataframe\">\n",
              "  <thead>\n",
              "    <tr style=\"text-align: right;\">\n",
              "      <th></th>\n",
              "      <th>AIRPORT CODE</th>\n",
              "      <th>VERIZON</th>\n",
              "      <th>SPRINT</th>\n",
              "      <th>AT&amp;T</th>\n",
              "      <th>T-MOBILE</th>\n",
              "    </tr>\n",
              "  </thead>\n",
              "  <tbody>\n",
              "    <tr>\n",
              "      <th>0</th>\n",
              "      <td>RSW</td>\n",
              "      <td>38.5</td>\n",
              "      <td>13.0</td>\n",
              "      <td>9.7</td>\n",
              "      <td>8.6</td>\n",
              "    </tr>\n",
              "    <tr>\n",
              "      <th>1</th>\n",
              "      <td>ORD</td>\n",
              "      <td>55.6</td>\n",
              "      <td>30.4</td>\n",
              "      <td>8.2</td>\n",
              "      <td>7.0</td>\n",
              "    </tr>\n",
              "    <tr>\n",
              "      <th>2</th>\n",
              "      <td>SNA</td>\n",
              "      <td>22.4</td>\n",
              "      <td>15.2</td>\n",
              "      <td>7.1</td>\n",
              "      <td>18.5</td>\n",
              "    </tr>\n",
              "    <tr>\n",
              "      <th>3</th>\n",
              "      <td>MEM</td>\n",
              "      <td>14.1</td>\n",
              "      <td>2.4</td>\n",
              "      <td>14.4</td>\n",
              "      <td>16.7</td>\n",
              "    </tr>\n",
              "    <tr>\n",
              "      <th>4</th>\n",
              "      <td>MKE</td>\n",
              "      <td>23.1</td>\n",
              "      <td>2.7</td>\n",
              "      <td>13.4</td>\n",
              "      <td>5.6</td>\n",
              "    </tr>\n",
              "    <tr>\n",
              "      <th>5</th>\n",
              "      <td>IND</td>\n",
              "      <td>24.5</td>\n",
              "      <td>2.1</td>\n",
              "      <td>30.6</td>\n",
              "      <td>3.2</td>\n",
              "    </tr>\n",
              "    <tr>\n",
              "      <th>6</th>\n",
              "      <td>DCA</td>\n",
              "      <td>6.5</td>\n",
              "      <td>0.8</td>\n",
              "      <td>14.4</td>\n",
              "      <td>16.2</td>\n",
              "    </tr>\n",
              "    <tr>\n",
              "      <th>7</th>\n",
              "      <td>LAS</td>\n",
              "      <td>21.5</td>\n",
              "      <td>1.6</td>\n",
              "      <td>17.0</td>\n",
              "      <td>6.9</td>\n",
              "    </tr>\n",
              "    <tr>\n",
              "      <th>8</th>\n",
              "      <td>CMH</td>\n",
              "      <td>25.7</td>\n",
              "      <td>5.6</td>\n",
              "      <td>3.8</td>\n",
              "      <td>27.3</td>\n",
              "    </tr>\n",
              "    <tr>\n",
              "      <th>9</th>\n",
              "      <td>PIT</td>\n",
              "      <td>14.7</td>\n",
              "      <td>4.0</td>\n",
              "      <td>12.4</td>\n",
              "      <td>10.1</td>\n",
              "    </tr>\n",
              "    <tr>\n",
              "      <th>10</th>\n",
              "      <td>ATL</td>\n",
              "      <td>77.8</td>\n",
              "      <td>0.4</td>\n",
              "      <td>33.9</td>\n",
              "      <td>27.3</td>\n",
              "    </tr>\n",
              "    <tr>\n",
              "      <th>11</th>\n",
              "      <td>MDW</td>\n",
              "      <td>71.3</td>\n",
              "      <td>2.5</td>\n",
              "      <td>5.5</td>\n",
              "      <td>13.3</td>\n",
              "    </tr>\n",
              "    <tr>\n",
              "      <th>12</th>\n",
              "      <td>BWI</td>\n",
              "      <td>43.0</td>\n",
              "      <td>3.4</td>\n",
              "      <td>12.7</td>\n",
              "      <td>3.2</td>\n",
              "    </tr>\n",
              "    <tr>\n",
              "      <th>13</th>\n",
              "      <td>RDU</td>\n",
              "      <td>20.2</td>\n",
              "      <td>2.7</td>\n",
              "      <td>11.0</td>\n",
              "      <td>5.4</td>\n",
              "    </tr>\n",
              "    <tr>\n",
              "      <th>14</th>\n",
              "      <td>FLL</td>\n",
              "      <td>15.5</td>\n",
              "      <td>10.6</td>\n",
              "      <td>4.8</td>\n",
              "      <td>4.3</td>\n",
              "    </tr>\n",
              "    <tr>\n",
              "      <th>15</th>\n",
              "      <td>SMF</td>\n",
              "      <td>13.7</td>\n",
              "      <td>0.3</td>\n",
              "      <td>17.5</td>\n",
              "      <td>23.5</td>\n",
              "    </tr>\n",
              "    <tr>\n",
              "      <th>16</th>\n",
              "      <td>SEA</td>\n",
              "      <td>11.1</td>\n",
              "      <td>1.6</td>\n",
              "      <td>8.0</td>\n",
              "      <td>15.0</td>\n",
              "    </tr>\n",
              "    <tr>\n",
              "      <th>17</th>\n",
              "      <td>IAD</td>\n",
              "      <td>13.5</td>\n",
              "      <td>2.7</td>\n",
              "      <td>14.7</td>\n",
              "      <td>4.2</td>\n",
              "    </tr>\n",
              "    <tr>\n",
              "      <th>18</th>\n",
              "      <td>MCI</td>\n",
              "      <td>10.2</td>\n",
              "      <td>1.1</td>\n",
              "      <td>9.5</td>\n",
              "      <td>13.5</td>\n",
              "    </tr>\n",
              "    <tr>\n",
              "      <th>19</th>\n",
              "      <td>LGA</td>\n",
              "      <td>21.1</td>\n",
              "      <td>3.8</td>\n",
              "      <td>13.8</td>\n",
              "      <td>4.7</td>\n",
              "    </tr>\n",
              "    <tr>\n",
              "      <th>20</th>\n",
              "      <td>CLE</td>\n",
              "      <td>15.1</td>\n",
              "      <td>0.5</td>\n",
              "      <td>7.6</td>\n",
              "      <td>24.7</td>\n",
              "    </tr>\n",
              "    <tr>\n",
              "      <th>21</th>\n",
              "      <td>MCO</td>\n",
              "      <td>14.2</td>\n",
              "      <td>1.2</td>\n",
              "      <td>9.5</td>\n",
              "      <td>22.2</td>\n",
              "    </tr>\n",
              "    <tr>\n",
              "      <th>22</th>\n",
              "      <td>PDX</td>\n",
              "      <td>4.5</td>\n",
              "      <td>5.0</td>\n",
              "      <td>6.5</td>\n",
              "      <td>15.0</td>\n",
              "    </tr>\n",
              "    <tr>\n",
              "      <th>23</th>\n",
              "      <td>CLT</td>\n",
              "      <td>7.9</td>\n",
              "      <td>1.1</td>\n",
              "      <td>9.1</td>\n",
              "      <td>4.4</td>\n",
              "    </tr>\n",
              "    <tr>\n",
              "      <th>24</th>\n",
              "      <td>TPA</td>\n",
              "      <td>9.9</td>\n",
              "      <td>14.1</td>\n",
              "      <td>5.3</td>\n",
              "      <td>16.1</td>\n",
              "    </tr>\n",
              "    <tr>\n",
              "      <th>25</th>\n",
              "      <td>DFW</td>\n",
              "      <td>10.3</td>\n",
              "      <td>0.6</td>\n",
              "      <td>10.0</td>\n",
              "      <td>14.8</td>\n",
              "    </tr>\n",
              "    <tr>\n",
              "      <th>26</th>\n",
              "      <td>BOS</td>\n",
              "      <td>6.2</td>\n",
              "      <td>1.0</td>\n",
              "      <td>11.7</td>\n",
              "      <td>9.6</td>\n",
              "    </tr>\n",
              "    <tr>\n",
              "      <th>27</th>\n",
              "      <td>SJC</td>\n",
              "      <td>17.5</td>\n",
              "      <td>3.6</td>\n",
              "      <td>2.7</td>\n",
              "      <td>7.4</td>\n",
              "    </tr>\n",
              "    <tr>\n",
              "      <th>28</th>\n",
              "      <td>MIA</td>\n",
              "      <td>22.2</td>\n",
              "      <td>4.0</td>\n",
              "      <td>4.0</td>\n",
              "      <td>5.0</td>\n",
              "    </tr>\n",
              "    <tr>\n",
              "      <th>29</th>\n",
              "      <td>DTW</td>\n",
              "      <td>13.1</td>\n",
              "      <td>0.5</td>\n",
              "      <td>22.4</td>\n",
              "      <td>4.4</td>\n",
              "    </tr>\n",
              "    <tr>\n",
              "      <th>30</th>\n",
              "      <td>LAX</td>\n",
              "      <td>18.2</td>\n",
              "      <td>15.1</td>\n",
              "      <td>3.0</td>\n",
              "      <td>0.7</td>\n",
              "    </tr>\n",
              "    <tr>\n",
              "      <th>31</th>\n",
              "      <td>AUS</td>\n",
              "      <td>28.5</td>\n",
              "      <td>0.5</td>\n",
              "      <td>29.0</td>\n",
              "      <td>5.1</td>\n",
              "    </tr>\n",
              "    <tr>\n",
              "      <th>32</th>\n",
              "      <td>SLC</td>\n",
              "      <td>15.8</td>\n",
              "      <td>3.2</td>\n",
              "      <td>4.0</td>\n",
              "      <td>2.8</td>\n",
              "    </tr>\n",
              "    <tr>\n",
              "      <th>33</th>\n",
              "      <td>HNL</td>\n",
              "      <td>15.0</td>\n",
              "      <td>0.5</td>\n",
              "      <td>5.1</td>\n",
              "      <td>10.9</td>\n",
              "    </tr>\n",
              "    <tr>\n",
              "      <th>34</th>\n",
              "      <td>HOU</td>\n",
              "      <td>11.1</td>\n",
              "      <td>2.1</td>\n",
              "      <td>2.7</td>\n",
              "      <td>3.6</td>\n",
              "    </tr>\n",
              "    <tr>\n",
              "      <th>35</th>\n",
              "      <td>DEN</td>\n",
              "      <td>11.8</td>\n",
              "      <td>0.3</td>\n",
              "      <td>8.1</td>\n",
              "      <td>12.7</td>\n",
              "    </tr>\n",
              "    <tr>\n",
              "      <th>36</th>\n",
              "      <td>OAK</td>\n",
              "      <td>16.0</td>\n",
              "      <td>0.4</td>\n",
              "      <td>6.0</td>\n",
              "      <td>22.5</td>\n",
              "    </tr>\n",
              "    <tr>\n",
              "      <th>37</th>\n",
              "      <td>IAH</td>\n",
              "      <td>10.9</td>\n",
              "      <td>0.4</td>\n",
              "      <td>10.2</td>\n",
              "      <td>23.8</td>\n",
              "    </tr>\n",
              "    <tr>\n",
              "      <th>38</th>\n",
              "      <td>PHX</td>\n",
              "      <td>1.8</td>\n",
              "      <td>0.6</td>\n",
              "      <td>7.6</td>\n",
              "      <td>13.3</td>\n",
              "    </tr>\n",
              "    <tr>\n",
              "      <th>39</th>\n",
              "      <td>DAL</td>\n",
              "      <td>34.6</td>\n",
              "      <td>0.2</td>\n",
              "      <td>37.4</td>\n",
              "      <td>5.1</td>\n",
              "    </tr>\n",
              "    <tr>\n",
              "      <th>40</th>\n",
              "      <td>JFK</td>\n",
              "      <td>4.6</td>\n",
              "      <td>1.2</td>\n",
              "      <td>21.0</td>\n",
              "      <td>9.8</td>\n",
              "    </tr>\n",
              "    <tr>\n",
              "      <th>41</th>\n",
              "      <td>SFO</td>\n",
              "      <td>12.0</td>\n",
              "      <td>0.7</td>\n",
              "      <td>2.8</td>\n",
              "      <td>2.5</td>\n",
              "    </tr>\n",
              "    <tr>\n",
              "      <th>42</th>\n",
              "      <td>SAT</td>\n",
              "      <td>11.6</td>\n",
              "      <td>0.3</td>\n",
              "      <td>4.5</td>\n",
              "      <td>11.7</td>\n",
              "    </tr>\n",
              "    <tr>\n",
              "      <th>43</th>\n",
              "      <td>STL</td>\n",
              "      <td>3.6</td>\n",
              "      <td>8.2</td>\n",
              "      <td>2.2</td>\n",
              "      <td>17.3</td>\n",
              "    </tr>\n",
              "    <tr>\n",
              "      <th>44</th>\n",
              "      <td>BNA</td>\n",
              "      <td>1.9</td>\n",
              "      <td>2.3</td>\n",
              "      <td>4.6</td>\n",
              "      <td>9.5</td>\n",
              "    </tr>\n",
              "    <tr>\n",
              "      <th>45</th>\n",
              "      <td>MSY</td>\n",
              "      <td>7.7</td>\n",
              "      <td>0.3</td>\n",
              "      <td>6.3</td>\n",
              "      <td>1.4</td>\n",
              "    </tr>\n",
              "    <tr>\n",
              "      <th>46</th>\n",
              "      <td>PHL</td>\n",
              "      <td>0.8</td>\n",
              "      <td>0.5</td>\n",
              "      <td>7.5</td>\n",
              "      <td>5.9</td>\n",
              "    </tr>\n",
              "    <tr>\n",
              "      <th>47</th>\n",
              "      <td>EWR</td>\n",
              "      <td>4.5</td>\n",
              "      <td>9.6</td>\n",
              "      <td>9.3</td>\n",
              "      <td>13.4</td>\n",
              "    </tr>\n",
              "    <tr>\n",
              "      <th>48</th>\n",
              "      <td>MSP</td>\n",
              "      <td>1.4</td>\n",
              "      <td>0.3</td>\n",
              "      <td>10.0</td>\n",
              "      <td>16.7</td>\n",
              "    </tr>\n",
              "    <tr>\n",
              "      <th>49</th>\n",
              "      <td>SAN</td>\n",
              "      <td>3.2</td>\n",
              "      <td>0.3</td>\n",
              "      <td>2.7</td>\n",
              "      <td>2.6</td>\n",
              "    </tr>\n",
              "  </tbody>\n",
              "</table>\n",
              "</div>\n",
              "      <button class=\"colab-df-convert\" onclick=\"convertToInteractive('df-a37a0f23-3d87-46da-85c2-e276668598ae')\"\n",
              "              title=\"Convert this dataframe to an interactive table.\"\n",
              "              style=\"display:none;\">\n",
              "        \n",
              "  <svg xmlns=\"http://www.w3.org/2000/svg\" height=\"24px\"viewBox=\"0 0 24 24\"\n",
              "       width=\"24px\">\n",
              "    <path d=\"M0 0h24v24H0V0z\" fill=\"none\"/>\n",
              "    <path d=\"M18.56 5.44l.94 2.06.94-2.06 2.06-.94-2.06-.94-.94-2.06-.94 2.06-2.06.94zm-11 1L8.5 8.5l.94-2.06 2.06-.94-2.06-.94L8.5 2.5l-.94 2.06-2.06.94zm10 10l.94 2.06.94-2.06 2.06-.94-2.06-.94-.94-2.06-.94 2.06-2.06.94z\"/><path d=\"M17.41 7.96l-1.37-1.37c-.4-.4-.92-.59-1.43-.59-.52 0-1.04.2-1.43.59L10.3 9.45l-7.72 7.72c-.78.78-.78 2.05 0 2.83L4 21.41c.39.39.9.59 1.41.59.51 0 1.02-.2 1.41-.59l7.78-7.78 2.81-2.81c.8-.78.8-2.07 0-2.86zM5.41 20L4 18.59l7.72-7.72 1.47 1.35L5.41 20z\"/>\n",
              "  </svg>\n",
              "      </button>\n",
              "      \n",
              "  <style>\n",
              "    .colab-df-container {\n",
              "      display:flex;\n",
              "      flex-wrap:wrap;\n",
              "      gap: 12px;\n",
              "    }\n",
              "\n",
              "    .colab-df-convert {\n",
              "      background-color: #E8F0FE;\n",
              "      border: none;\n",
              "      border-radius: 50%;\n",
              "      cursor: pointer;\n",
              "      display: none;\n",
              "      fill: #1967D2;\n",
              "      height: 32px;\n",
              "      padding: 0 0 0 0;\n",
              "      width: 32px;\n",
              "    }\n",
              "\n",
              "    .colab-df-convert:hover {\n",
              "      background-color: #E2EBFA;\n",
              "      box-shadow: 0px 1px 2px rgba(60, 64, 67, 0.3), 0px 1px 3px 1px rgba(60, 64, 67, 0.15);\n",
              "      fill: #174EA6;\n",
              "    }\n",
              "\n",
              "    [theme=dark] .colab-df-convert {\n",
              "      background-color: #3B4455;\n",
              "      fill: #D2E3FC;\n",
              "    }\n",
              "\n",
              "    [theme=dark] .colab-df-convert:hover {\n",
              "      background-color: #434B5C;\n",
              "      box-shadow: 0px 1px 3px 1px rgba(0, 0, 0, 0.15);\n",
              "      filter: drop-shadow(0px 1px 2px rgba(0, 0, 0, 0.3));\n",
              "      fill: #FFFFFF;\n",
              "    }\n",
              "  </style>\n",
              "\n",
              "      <script>\n",
              "        const buttonEl =\n",
              "          document.querySelector('#df-a37a0f23-3d87-46da-85c2-e276668598ae button.colab-df-convert');\n",
              "        buttonEl.style.display =\n",
              "          google.colab.kernel.accessAllowed ? 'block' : 'none';\n",
              "\n",
              "        async function convertToInteractive(key) {\n",
              "          const element = document.querySelector('#df-a37a0f23-3d87-46da-85c2-e276668598ae');\n",
              "          const dataTable =\n",
              "            await google.colab.kernel.invokeFunction('convertToInteractive',\n",
              "                                                     [key], {});\n",
              "          if (!dataTable) return;\n",
              "\n",
              "          const docLinkHtml = 'Like what you see? Visit the ' +\n",
              "            '<a target=\"_blank\" href=https://colab.research.google.com/notebooks/data_table.ipynb>data table notebook</a>'\n",
              "            + ' to learn more about interactive tables.';\n",
              "          element.innerHTML = '';\n",
              "          dataTable['output_type'] = 'display_data';\n",
              "          await google.colab.output.renderOutput(dataTable, element);\n",
              "          const docLink = document.createElement('div');\n",
              "          docLink.innerHTML = docLinkHtml;\n",
              "          element.appendChild(docLink);\n",
              "        }\n",
              "      </script>\n",
              "    </div>\n",
              "  </div>\n",
              "  "
            ]
          },
          "metadata": {},
          "execution_count": 4
        }
      ]
    },
    {
      "cell_type": "code",
      "source": [
        "df.tail()"
      ],
      "metadata": {
        "colab": {
          "base_uri": "https://localhost:8080/",
          "height": 206
        },
        "id": "7za04w9-FDoa",
        "outputId": "ead6b9f2-7ff1-4c70-a3c1-7331e2f75c11"
      },
      "execution_count": null,
      "outputs": [
        {
          "output_type": "execute_result",
          "data": {
            "text/plain": [
              "   AIRPORT CODE  VERIZON  SPRINT  AT&T  T-MOBILE\n",
              "45          MSY      7.7     0.3   6.3       1.4\n",
              "46          PHL      0.8     0.5   7.5       5.9\n",
              "47          EWR      4.5     9.6   9.3      13.4\n",
              "48          MSP      1.4     0.3  10.0      16.7\n",
              "49          SAN      3.2     0.3   2.7       2.6"
            ],
            "text/html": [
              "\n",
              "  <div id=\"df-b9dee6a8-b9f5-44e9-8163-47d97c33f85f\">\n",
              "    <div class=\"colab-df-container\">\n",
              "      <div>\n",
              "<style scoped>\n",
              "    .dataframe tbody tr th:only-of-type {\n",
              "        vertical-align: middle;\n",
              "    }\n",
              "\n",
              "    .dataframe tbody tr th {\n",
              "        vertical-align: top;\n",
              "    }\n",
              "\n",
              "    .dataframe thead th {\n",
              "        text-align: right;\n",
              "    }\n",
              "</style>\n",
              "<table border=\"1\" class=\"dataframe\">\n",
              "  <thead>\n",
              "    <tr style=\"text-align: right;\">\n",
              "      <th></th>\n",
              "      <th>AIRPORT CODE</th>\n",
              "      <th>VERIZON</th>\n",
              "      <th>SPRINT</th>\n",
              "      <th>AT&amp;T</th>\n",
              "      <th>T-MOBILE</th>\n",
              "    </tr>\n",
              "  </thead>\n",
              "  <tbody>\n",
              "    <tr>\n",
              "      <th>45</th>\n",
              "      <td>MSY</td>\n",
              "      <td>7.7</td>\n",
              "      <td>0.3</td>\n",
              "      <td>6.3</td>\n",
              "      <td>1.4</td>\n",
              "    </tr>\n",
              "    <tr>\n",
              "      <th>46</th>\n",
              "      <td>PHL</td>\n",
              "      <td>0.8</td>\n",
              "      <td>0.5</td>\n",
              "      <td>7.5</td>\n",
              "      <td>5.9</td>\n",
              "    </tr>\n",
              "    <tr>\n",
              "      <th>47</th>\n",
              "      <td>EWR</td>\n",
              "      <td>4.5</td>\n",
              "      <td>9.6</td>\n",
              "      <td>9.3</td>\n",
              "      <td>13.4</td>\n",
              "    </tr>\n",
              "    <tr>\n",
              "      <th>48</th>\n",
              "      <td>MSP</td>\n",
              "      <td>1.4</td>\n",
              "      <td>0.3</td>\n",
              "      <td>10.0</td>\n",
              "      <td>16.7</td>\n",
              "    </tr>\n",
              "    <tr>\n",
              "      <th>49</th>\n",
              "      <td>SAN</td>\n",
              "      <td>3.2</td>\n",
              "      <td>0.3</td>\n",
              "      <td>2.7</td>\n",
              "      <td>2.6</td>\n",
              "    </tr>\n",
              "  </tbody>\n",
              "</table>\n",
              "</div>\n",
              "      <button class=\"colab-df-convert\" onclick=\"convertToInteractive('df-b9dee6a8-b9f5-44e9-8163-47d97c33f85f')\"\n",
              "              title=\"Convert this dataframe to an interactive table.\"\n",
              "              style=\"display:none;\">\n",
              "        \n",
              "  <svg xmlns=\"http://www.w3.org/2000/svg\" height=\"24px\"viewBox=\"0 0 24 24\"\n",
              "       width=\"24px\">\n",
              "    <path d=\"M0 0h24v24H0V0z\" fill=\"none\"/>\n",
              "    <path d=\"M18.56 5.44l.94 2.06.94-2.06 2.06-.94-2.06-.94-.94-2.06-.94 2.06-2.06.94zm-11 1L8.5 8.5l.94-2.06 2.06-.94-2.06-.94L8.5 2.5l-.94 2.06-2.06.94zm10 10l.94 2.06.94-2.06 2.06-.94-2.06-.94-.94-2.06-.94 2.06-2.06.94z\"/><path d=\"M17.41 7.96l-1.37-1.37c-.4-.4-.92-.59-1.43-.59-.52 0-1.04.2-1.43.59L10.3 9.45l-7.72 7.72c-.78.78-.78 2.05 0 2.83L4 21.41c.39.39.9.59 1.41.59.51 0 1.02-.2 1.41-.59l7.78-7.78 2.81-2.81c.8-.78.8-2.07 0-2.86zM5.41 20L4 18.59l7.72-7.72 1.47 1.35L5.41 20z\"/>\n",
              "  </svg>\n",
              "      </button>\n",
              "      \n",
              "  <style>\n",
              "    .colab-df-container {\n",
              "      display:flex;\n",
              "      flex-wrap:wrap;\n",
              "      gap: 12px;\n",
              "    }\n",
              "\n",
              "    .colab-df-convert {\n",
              "      background-color: #E8F0FE;\n",
              "      border: none;\n",
              "      border-radius: 50%;\n",
              "      cursor: pointer;\n",
              "      display: none;\n",
              "      fill: #1967D2;\n",
              "      height: 32px;\n",
              "      padding: 0 0 0 0;\n",
              "      width: 32px;\n",
              "    }\n",
              "\n",
              "    .colab-df-convert:hover {\n",
              "      background-color: #E2EBFA;\n",
              "      box-shadow: 0px 1px 2px rgba(60, 64, 67, 0.3), 0px 1px 3px 1px rgba(60, 64, 67, 0.15);\n",
              "      fill: #174EA6;\n",
              "    }\n",
              "\n",
              "    [theme=dark] .colab-df-convert {\n",
              "      background-color: #3B4455;\n",
              "      fill: #D2E3FC;\n",
              "    }\n",
              "\n",
              "    [theme=dark] .colab-df-convert:hover {\n",
              "      background-color: #434B5C;\n",
              "      box-shadow: 0px 1px 3px 1px rgba(0, 0, 0, 0.15);\n",
              "      filter: drop-shadow(0px 1px 2px rgba(0, 0, 0, 0.3));\n",
              "      fill: #FFFFFF;\n",
              "    }\n",
              "  </style>\n",
              "\n",
              "      <script>\n",
              "        const buttonEl =\n",
              "          document.querySelector('#df-b9dee6a8-b9f5-44e9-8163-47d97c33f85f button.colab-df-convert');\n",
              "        buttonEl.style.display =\n",
              "          google.colab.kernel.accessAllowed ? 'block' : 'none';\n",
              "\n",
              "        async function convertToInteractive(key) {\n",
              "          const element = document.querySelector('#df-b9dee6a8-b9f5-44e9-8163-47d97c33f85f');\n",
              "          const dataTable =\n",
              "            await google.colab.kernel.invokeFunction('convertToInteractive',\n",
              "                                                     [key], {});\n",
              "          if (!dataTable) return;\n",
              "\n",
              "          const docLinkHtml = 'Like what you see? Visit the ' +\n",
              "            '<a target=\"_blank\" href=https://colab.research.google.com/notebooks/data_table.ipynb>data table notebook</a>'\n",
              "            + ' to learn more about interactive tables.';\n",
              "          element.innerHTML = '';\n",
              "          dataTable['output_type'] = 'display_data';\n",
              "          await google.colab.output.renderOutput(dataTable, element);\n",
              "          const docLink = document.createElement('div');\n",
              "          docLink.innerHTML = docLinkHtml;\n",
              "          element.appendChild(docLink);\n",
              "        }\n",
              "      </script>\n",
              "    </div>\n",
              "  </div>\n",
              "  "
            ]
          },
          "metadata": {},
          "execution_count": 6
        }
      ]
    },
    {
      "cell_type": "code",
      "source": [
        "df.corr()"
      ],
      "metadata": {
        "colab": {
          "base_uri": "https://localhost:8080/",
          "height": 230
        },
        "id": "aM_KkwyHHWQC",
        "outputId": "73b486d0-de45-43d6-fcb2-d37f904f44c3"
      },
      "execution_count": null,
      "outputs": [
        {
          "output_type": "stream",
          "name": "stderr",
          "text": [
            "<ipython-input-8-2f6f6606aa2c>:1: FutureWarning: The default value of numeric_only in DataFrame.corr is deprecated. In a future version, it will default to False. Select only valid columns or specify the value of numeric_only to silence this warning.\n",
            "  df.corr()\n"
          ]
        },
        {
          "output_type": "execute_result",
          "data": {
            "text/plain": [
              "           VERIZON    SPRINT      AT&T  T-MOBILE\n",
              "VERIZON   1.000000  0.281836  0.368090  0.072085\n",
              "SPRINT    0.281836  1.000000 -0.242969 -0.081935\n",
              "AT&T      0.368090 -0.242969  1.000000  0.002748\n",
              "T-MOBILE  0.072085 -0.081935  0.002748  1.000000"
            ],
            "text/html": [
              "\n",
              "  <div id=\"df-d50e6ef2-40de-41a1-9ed9-09f069d6e802\">\n",
              "    <div class=\"colab-df-container\">\n",
              "      <div>\n",
              "<style scoped>\n",
              "    .dataframe tbody tr th:only-of-type {\n",
              "        vertical-align: middle;\n",
              "    }\n",
              "\n",
              "    .dataframe tbody tr th {\n",
              "        vertical-align: top;\n",
              "    }\n",
              "\n",
              "    .dataframe thead th {\n",
              "        text-align: right;\n",
              "    }\n",
              "</style>\n",
              "<table border=\"1\" class=\"dataframe\">\n",
              "  <thead>\n",
              "    <tr style=\"text-align: right;\">\n",
              "      <th></th>\n",
              "      <th>VERIZON</th>\n",
              "      <th>SPRINT</th>\n",
              "      <th>AT&amp;T</th>\n",
              "      <th>T-MOBILE</th>\n",
              "    </tr>\n",
              "  </thead>\n",
              "  <tbody>\n",
              "    <tr>\n",
              "      <th>VERIZON</th>\n",
              "      <td>1.000000</td>\n",
              "      <td>0.281836</td>\n",
              "      <td>0.368090</td>\n",
              "      <td>0.072085</td>\n",
              "    </tr>\n",
              "    <tr>\n",
              "      <th>SPRINT</th>\n",
              "      <td>0.281836</td>\n",
              "      <td>1.000000</td>\n",
              "      <td>-0.242969</td>\n",
              "      <td>-0.081935</td>\n",
              "    </tr>\n",
              "    <tr>\n",
              "      <th>AT&amp;T</th>\n",
              "      <td>0.368090</td>\n",
              "      <td>-0.242969</td>\n",
              "      <td>1.000000</td>\n",
              "      <td>0.002748</td>\n",
              "    </tr>\n",
              "    <tr>\n",
              "      <th>T-MOBILE</th>\n",
              "      <td>0.072085</td>\n",
              "      <td>-0.081935</td>\n",
              "      <td>0.002748</td>\n",
              "      <td>1.000000</td>\n",
              "    </tr>\n",
              "  </tbody>\n",
              "</table>\n",
              "</div>\n",
              "      <button class=\"colab-df-convert\" onclick=\"convertToInteractive('df-d50e6ef2-40de-41a1-9ed9-09f069d6e802')\"\n",
              "              title=\"Convert this dataframe to an interactive table.\"\n",
              "              style=\"display:none;\">\n",
              "        \n",
              "  <svg xmlns=\"http://www.w3.org/2000/svg\" height=\"24px\"viewBox=\"0 0 24 24\"\n",
              "       width=\"24px\">\n",
              "    <path d=\"M0 0h24v24H0V0z\" fill=\"none\"/>\n",
              "    <path d=\"M18.56 5.44l.94 2.06.94-2.06 2.06-.94-2.06-.94-.94-2.06-.94 2.06-2.06.94zm-11 1L8.5 8.5l.94-2.06 2.06-.94-2.06-.94L8.5 2.5l-.94 2.06-2.06.94zm10 10l.94 2.06.94-2.06 2.06-.94-2.06-.94-.94-2.06-.94 2.06-2.06.94z\"/><path d=\"M17.41 7.96l-1.37-1.37c-.4-.4-.92-.59-1.43-.59-.52 0-1.04.2-1.43.59L10.3 9.45l-7.72 7.72c-.78.78-.78 2.05 0 2.83L4 21.41c.39.39.9.59 1.41.59.51 0 1.02-.2 1.41-.59l7.78-7.78 2.81-2.81c.8-.78.8-2.07 0-2.86zM5.41 20L4 18.59l7.72-7.72 1.47 1.35L5.41 20z\"/>\n",
              "  </svg>\n",
              "      </button>\n",
              "      \n",
              "  <style>\n",
              "    .colab-df-container {\n",
              "      display:flex;\n",
              "      flex-wrap:wrap;\n",
              "      gap: 12px;\n",
              "    }\n",
              "\n",
              "    .colab-df-convert {\n",
              "      background-color: #E8F0FE;\n",
              "      border: none;\n",
              "      border-radius: 50%;\n",
              "      cursor: pointer;\n",
              "      display: none;\n",
              "      fill: #1967D2;\n",
              "      height: 32px;\n",
              "      padding: 0 0 0 0;\n",
              "      width: 32px;\n",
              "    }\n",
              "\n",
              "    .colab-df-convert:hover {\n",
              "      background-color: #E2EBFA;\n",
              "      box-shadow: 0px 1px 2px rgba(60, 64, 67, 0.3), 0px 1px 3px 1px rgba(60, 64, 67, 0.15);\n",
              "      fill: #174EA6;\n",
              "    }\n",
              "\n",
              "    [theme=dark] .colab-df-convert {\n",
              "      background-color: #3B4455;\n",
              "      fill: #D2E3FC;\n",
              "    }\n",
              "\n",
              "    [theme=dark] .colab-df-convert:hover {\n",
              "      background-color: #434B5C;\n",
              "      box-shadow: 0px 1px 3px 1px rgba(0, 0, 0, 0.15);\n",
              "      filter: drop-shadow(0px 1px 2px rgba(0, 0, 0, 0.3));\n",
              "      fill: #FFFFFF;\n",
              "    }\n",
              "  </style>\n",
              "\n",
              "      <script>\n",
              "        const buttonEl =\n",
              "          document.querySelector('#df-d50e6ef2-40de-41a1-9ed9-09f069d6e802 button.colab-df-convert');\n",
              "        buttonEl.style.display =\n",
              "          google.colab.kernel.accessAllowed ? 'block' : 'none';\n",
              "\n",
              "        async function convertToInteractive(key) {\n",
              "          const element = document.querySelector('#df-d50e6ef2-40de-41a1-9ed9-09f069d6e802');\n",
              "          const dataTable =\n",
              "            await google.colab.kernel.invokeFunction('convertToInteractive',\n",
              "                                                     [key], {});\n",
              "          if (!dataTable) return;\n",
              "\n",
              "          const docLinkHtml = 'Like what you see? Visit the ' +\n",
              "            '<a target=\"_blank\" href=https://colab.research.google.com/notebooks/data_table.ipynb>data table notebook</a>'\n",
              "            + ' to learn more about interactive tables.';\n",
              "          element.innerHTML = '';\n",
              "          dataTable['output_type'] = 'display_data';\n",
              "          await google.colab.output.renderOutput(dataTable, element);\n",
              "          const docLink = document.createElement('div');\n",
              "          docLink.innerHTML = docLinkHtml;\n",
              "          element.appendChild(docLink);\n",
              "        }\n",
              "      </script>\n",
              "    </div>\n",
              "  </div>\n",
              "  "
            ]
          },
          "metadata": {},
          "execution_count": 8
        }
      ]
    },
    {
      "cell_type": "markdown",
      "source": [
        "Retorna el número de filas y columnas\n"
      ],
      "metadata": {
        "id": "UmcmAYkgrO6i"
      }
    },
    {
      "cell_type": "code",
      "source": [
        "df.shape\n"
      ],
      "metadata": {
        "colab": {
          "base_uri": "https://localhost:8080/"
        },
        "id": "baGwhhdjoNm_",
        "outputId": "9925beac-f9cf-41af-a9c8-c86ba2c73f42"
      },
      "execution_count": null,
      "outputs": [
        {
          "output_type": "execute_result",
          "data": {
            "text/plain": [
              "(50, 5)"
            ]
          },
          "metadata": {},
          "execution_count": 4
        }
      ]
    },
    {
      "cell_type": "markdown",
      "source": [
        "Se cálculo la media de cada una de las columnas"
      ],
      "metadata": {
        "id": "jXvhG-RttkNV"
      }
    },
    {
      "cell_type": "code",
      "source": [
        "df.mean()\n",
        "\n"
      ],
      "metadata": {
        "colab": {
          "base_uri": "https://localhost:8080/"
        },
        "id": "PFcd8HperSgr",
        "outputId": "f67f5729-7296-4027-a14d-cfa9dcf8a358"
      },
      "execution_count": null,
      "outputs": [
        {
          "output_type": "stream",
          "name": "stderr",
          "text": [
            "<ipython-input-5-7fe5b97a0147>:1: FutureWarning: The default value of numeric_only in DataFrame.mean is deprecated. In a future version, it will default to False. In addition, specifying 'numeric_only=None' is deprecated. Select only valid columns or specify the value of numeric_only to silence this warning.\n",
            "  df.mean()\n"
          ]
        },
        {
          "output_type": "execute_result",
          "data": {
            "text/plain": [
              "VERIZON     17.598\n",
              "SPRINT       3.710\n",
              "AT&T        10.704\n",
              "T-MOBILE    10.988\n",
              "dtype: float64"
            ]
          },
          "metadata": {},
          "execution_count": 5
        }
      ]
    },
    {
      "cell_type": "markdown",
      "source": [
        "Se cálculo la varianza de todas las variables"
      ],
      "metadata": {
        "id": "RiQL6W7BxGvv"
      }
    },
    {
      "cell_type": "code",
      "source": [
        "df.var()\n"
      ],
      "metadata": {
        "colab": {
          "base_uri": "https://localhost:8080/"
        },
        "id": "ZcE2OW90toC9",
        "outputId": "bf40d50f-cc8b-474c-b42a-c509877d55bd"
      },
      "execution_count": null,
      "outputs": [
        {
          "output_type": "stream",
          "name": "stderr",
          "text": [
            "<ipython-input-6-28ded241fd7c>:1: FutureWarning: The default value of numeric_only in DataFrame.var is deprecated. In a future version, it will default to False. In addition, specifying 'numeric_only=None' is deprecated. Select only valid columns or specify the value of numeric_only to silence this warning.\n",
            "  df.var()\n"
          ]
        },
        {
          "output_type": "execute_result",
          "data": {
            "text/plain": [
              "VERIZON     256.548363\n",
              "SPRINT       31.340918\n",
              "AT&T         65.959167\n",
              "T-MOBILE     53.796996\n",
              "dtype: float64"
            ]
          },
          "metadata": {},
          "execution_count": 6
        }
      ]
    },
    {
      "cell_type": "markdown",
      "source": [
        "se cálculo la desviación estándar \n"
      ],
      "metadata": {
        "id": "xjhqzyvuxSqW"
      }
    },
    {
      "cell_type": "code",
      "source": [
        "df.std()"
      ],
      "metadata": {
        "colab": {
          "base_uri": "https://localhost:8080/"
        },
        "id": "D-HEeqkJbjqZ",
        "outputId": "6365f6c2-df51-41ff-a5ba-d3b9c0ebd3fb"
      },
      "execution_count": null,
      "outputs": [
        {
          "output_type": "stream",
          "name": "stderr",
          "text": [
            "<ipython-input-7-ce97bb7eaef8>:1: FutureWarning: The default value of numeric_only in DataFrame.std is deprecated. In a future version, it will default to False. In addition, specifying 'numeric_only=None' is deprecated. Select only valid columns or specify the value of numeric_only to silence this warning.\n",
            "  df.std()\n"
          ]
        },
        {
          "output_type": "execute_result",
          "data": {
            "text/plain": [
              "VERIZON     16.017127\n",
              "SPRINT       5.598296\n",
              "AT&T         8.121525\n",
              "T-MOBILE     7.334644\n",
              "dtype: float64"
            ]
          },
          "metadata": {},
          "execution_count": 7
        }
      ]
    },
    {
      "cell_type": "markdown",
      "source": [
        "\n",
        "Se cálculo el coeficiente de correlación de dos variables\n",
        "\n",
        "\n"
      ],
      "metadata": {
        "id": "OXLak381ssIh"
      }
    },
    {
      "cell_type": "code",
      "source": [
        "coef_corr = np.corrcoef(df['VERIZON'], df['SPRINT'])[0, 1]\n"
      ],
      "metadata": {
        "id": "WUvuPC30b4_n"
      },
      "execution_count": null,
      "outputs": []
    },
    {
      "cell_type": "markdown",
      "source": [
        "Resultado del coeficiente de correlación"
      ],
      "metadata": {
        "id": "rojN7dXNs5-d"
      }
    },
    {
      "cell_type": "code",
      "source": [
        "coef_corr"
      ],
      "metadata": {
        "colab": {
          "base_uri": "https://localhost:8080/"
        },
        "id": "cHe7bC8ufhML",
        "outputId": "09dc02f1-1ea6-445d-bed9-83335b47f4fd"
      },
      "execution_count": null,
      "outputs": [
        {
          "output_type": "execute_result",
          "data": {
            "text/plain": [
              "0.28183613513482275"
            ]
          },
          "metadata": {},
          "execution_count": 9
        }
      ]
    },
    {
      "cell_type": "markdown",
      "source": [
        "Variables  que están correlacionadas"
      ],
      "metadata": {
        "id": "EkI4HgQltEyu"
      }
    },
    {
      "cell_type": "code",
      "source": [
        "correlation_matrix = df.corr()\n"
      ],
      "metadata": {
        "colab": {
          "base_uri": "https://localhost:8080/"
        },
        "id": "DshWHfvcfobY",
        "outputId": "089643de-5cb6-44ca-eed9-208c1db7e1e8"
      },
      "execution_count": null,
      "outputs": [
        {
          "output_type": "stream",
          "name": "stderr",
          "text": [
            "<ipython-input-10-68bbfff3c4eb>:1: FutureWarning: The default value of numeric_only in DataFrame.corr is deprecated. In a future version, it will default to False. Select only valid columns or specify the value of numeric_only to silence this warning.\n",
            "  correlation_matrix = df.corr()\n"
          ]
        }
      ]
    },
    {
      "cell_type": "code",
      "source": [
        "correlation_matrix"
      ],
      "metadata": {
        "colab": {
          "base_uri": "https://localhost:8080/",
          "height": 175
        },
        "id": "U6yJI-Y3t1p-",
        "outputId": "c816217e-d986-45a5-9f3f-5e32ec36ae86"
      },
      "execution_count": null,
      "outputs": [
        {
          "output_type": "execute_result",
          "data": {
            "text/plain": [
              "           VERIZON    SPRINT      AT&T  T-MOBILE\n",
              "VERIZON   1.000000  0.281836  0.368090  0.072085\n",
              "SPRINT    0.281836  1.000000 -0.242969 -0.081935\n",
              "AT&T      0.368090 -0.242969  1.000000  0.002748\n",
              "T-MOBILE  0.072085 -0.081935  0.002748  1.000000"
            ],
            "text/html": [
              "\n",
              "  <div id=\"df-cbe93a29-53eb-4c47-8fb0-408b9987d936\">\n",
              "    <div class=\"colab-df-container\">\n",
              "      <div>\n",
              "<style scoped>\n",
              "    .dataframe tbody tr th:only-of-type {\n",
              "        vertical-align: middle;\n",
              "    }\n",
              "\n",
              "    .dataframe tbody tr th {\n",
              "        vertical-align: top;\n",
              "    }\n",
              "\n",
              "    .dataframe thead th {\n",
              "        text-align: right;\n",
              "    }\n",
              "</style>\n",
              "<table border=\"1\" class=\"dataframe\">\n",
              "  <thead>\n",
              "    <tr style=\"text-align: right;\">\n",
              "      <th></th>\n",
              "      <th>VERIZON</th>\n",
              "      <th>SPRINT</th>\n",
              "      <th>AT&amp;T</th>\n",
              "      <th>T-MOBILE</th>\n",
              "    </tr>\n",
              "  </thead>\n",
              "  <tbody>\n",
              "    <tr>\n",
              "      <th>VERIZON</th>\n",
              "      <td>1.000000</td>\n",
              "      <td>0.281836</td>\n",
              "      <td>0.368090</td>\n",
              "      <td>0.072085</td>\n",
              "    </tr>\n",
              "    <tr>\n",
              "      <th>SPRINT</th>\n",
              "      <td>0.281836</td>\n",
              "      <td>1.000000</td>\n",
              "      <td>-0.242969</td>\n",
              "      <td>-0.081935</td>\n",
              "    </tr>\n",
              "    <tr>\n",
              "      <th>AT&amp;T</th>\n",
              "      <td>0.368090</td>\n",
              "      <td>-0.242969</td>\n",
              "      <td>1.000000</td>\n",
              "      <td>0.002748</td>\n",
              "    </tr>\n",
              "    <tr>\n",
              "      <th>T-MOBILE</th>\n",
              "      <td>0.072085</td>\n",
              "      <td>-0.081935</td>\n",
              "      <td>0.002748</td>\n",
              "      <td>1.000000</td>\n",
              "    </tr>\n",
              "  </tbody>\n",
              "</table>\n",
              "</div>\n",
              "      <button class=\"colab-df-convert\" onclick=\"convertToInteractive('df-cbe93a29-53eb-4c47-8fb0-408b9987d936')\"\n",
              "              title=\"Convert this dataframe to an interactive table.\"\n",
              "              style=\"display:none;\">\n",
              "        \n",
              "  <svg xmlns=\"http://www.w3.org/2000/svg\" height=\"24px\"viewBox=\"0 0 24 24\"\n",
              "       width=\"24px\">\n",
              "    <path d=\"M0 0h24v24H0V0z\" fill=\"none\"/>\n",
              "    <path d=\"M18.56 5.44l.94 2.06.94-2.06 2.06-.94-2.06-.94-.94-2.06-.94 2.06-2.06.94zm-11 1L8.5 8.5l.94-2.06 2.06-.94-2.06-.94L8.5 2.5l-.94 2.06-2.06.94zm10 10l.94 2.06.94-2.06 2.06-.94-2.06-.94-.94-2.06-.94 2.06-2.06.94z\"/><path d=\"M17.41 7.96l-1.37-1.37c-.4-.4-.92-.59-1.43-.59-.52 0-1.04.2-1.43.59L10.3 9.45l-7.72 7.72c-.78.78-.78 2.05 0 2.83L4 21.41c.39.39.9.59 1.41.59.51 0 1.02-.2 1.41-.59l7.78-7.78 2.81-2.81c.8-.78.8-2.07 0-2.86zM5.41 20L4 18.59l7.72-7.72 1.47 1.35L5.41 20z\"/>\n",
              "  </svg>\n",
              "      </button>\n",
              "      \n",
              "  <style>\n",
              "    .colab-df-container {\n",
              "      display:flex;\n",
              "      flex-wrap:wrap;\n",
              "      gap: 12px;\n",
              "    }\n",
              "\n",
              "    .colab-df-convert {\n",
              "      background-color: #E8F0FE;\n",
              "      border: none;\n",
              "      border-radius: 50%;\n",
              "      cursor: pointer;\n",
              "      display: none;\n",
              "      fill: #1967D2;\n",
              "      height: 32px;\n",
              "      padding: 0 0 0 0;\n",
              "      width: 32px;\n",
              "    }\n",
              "\n",
              "    .colab-df-convert:hover {\n",
              "      background-color: #E2EBFA;\n",
              "      box-shadow: 0px 1px 2px rgba(60, 64, 67, 0.3), 0px 1px 3px 1px rgba(60, 64, 67, 0.15);\n",
              "      fill: #174EA6;\n",
              "    }\n",
              "\n",
              "    [theme=dark] .colab-df-convert {\n",
              "      background-color: #3B4455;\n",
              "      fill: #D2E3FC;\n",
              "    }\n",
              "\n",
              "    [theme=dark] .colab-df-convert:hover {\n",
              "      background-color: #434B5C;\n",
              "      box-shadow: 0px 1px 3px 1px rgba(0, 0, 0, 0.15);\n",
              "      filter: drop-shadow(0px 1px 2px rgba(0, 0, 0, 0.3));\n",
              "      fill: #FFFFFF;\n",
              "    }\n",
              "  </style>\n",
              "\n",
              "      <script>\n",
              "        const buttonEl =\n",
              "          document.querySelector('#df-cbe93a29-53eb-4c47-8fb0-408b9987d936 button.colab-df-convert');\n",
              "        buttonEl.style.display =\n",
              "          google.colab.kernel.accessAllowed ? 'block' : 'none';\n",
              "\n",
              "        async function convertToInteractive(key) {\n",
              "          const element = document.querySelector('#df-cbe93a29-53eb-4c47-8fb0-408b9987d936');\n",
              "          const dataTable =\n",
              "            await google.colab.kernel.invokeFunction('convertToInteractive',\n",
              "                                                     [key], {});\n",
              "          if (!dataTable) return;\n",
              "\n",
              "          const docLinkHtml = 'Like what you see? Visit the ' +\n",
              "            '<a target=\"_blank\" href=https://colab.research.google.com/notebooks/data_table.ipynb>data table notebook</a>'\n",
              "            + ' to learn more about interactive tables.';\n",
              "          element.innerHTML = '';\n",
              "          dataTable['output_type'] = 'display_data';\n",
              "          await google.colab.output.renderOutput(dataTable, element);\n",
              "          const docLink = document.createElement('div');\n",
              "          docLink.innerHTML = docLinkHtml;\n",
              "          element.appendChild(docLink);\n",
              "        }\n",
              "      </script>\n",
              "    </div>\n",
              "  </div>\n",
              "  "
            ]
          },
          "metadata": {},
          "execution_count": 37
        }
      ]
    },
    {
      "cell_type": "markdown",
      "source": [
        "Diagrama de Dispersión"
      ],
      "metadata": {
        "id": "Wt0CKX-Jtxw9"
      }
    },
    {
      "cell_type": "code",
      "source": [
        "correlation_matrix\n",
        "corr_varb = correlation_matrix[correlation_matrix > 0.8].stack().dropna().index.tolist()\n"
      ],
      "metadata": {
        "id": "6x9rjr1RgE11"
      },
      "execution_count": null,
      "outputs": []
    },
    {
      "cell_type": "code",
      "source": [
        "for VERIZON, SPRINT in corr_varb:\n",
        "    plt.scatter(df['VERIZON'], df['SPRINT'])\n",
        "    plt.xlabel('VERIZON')\n",
        "    plt.ylabel('SPRINT')\n",
        "    plt.title(f\"Diagrama de dispersión entre {'VERIZON'} y {'SPRINT'}\")\n",
        "    plt.show()\n"
      ],
      "metadata": {
        "colab": {
          "base_uri": "https://localhost:8080/",
          "height": 1000
        },
        "id": "PQAR8bj7iOdK",
        "outputId": "5a94a1e4-002c-49b3-cb4e-c0324da26814"
      },
      "execution_count": null,
      "outputs": [
        {
          "output_type": "display_data",
          "data": {
            "text/plain": [
              "<Figure size 640x480 with 1 Axes>"
            ],
            "image/png": "[encoded data removed]"
          },
          "metadata": {}
        },
        {
          "output_type": "display_data",
          "data": {
            "text/plain": [
              "<Figure size 640x480 with 1 Axes>"
            ],
            "image/png": "[encoded data removed]"
          },
          "metadata": {}
        },
        {
          "output_type": "display_data",
          "data": {
            "text/plain": [
              "<Figure size 640x480 with 1 Axes>"
            ],
            "image/png": "[encoded data removed]"
          },
          "metadata": {}
        },
        {
          "output_type": "display_data",
          "data": {
            "text/plain": [
              "<Figure size 640x480 with 1 Axes>"
            ],
            "image/png": "[encoded data removed]"
          },
          "metadata": {}
        }
      ]
    },
    {
      "cell_type": "markdown",
      "source": [
        "Encontrar la pendiente de la recta m"
      ],
      "metadata": {
        "id": "7Lq18-lUfqe7"
      }
    },
    {
      "cell_type": "code",
      "source": [
        "#Encontrar la pendiente de la recta m\n",
        "# Datos\n",
        "x = df['VERIZON']\n",
        "y = df['SPRINT']\n",
        "\n",
        "# Ajuste de la línea recta\n",
        "m, b = np.polyfit(x, y, 1)\n",
        "\n",
        "# Crear el diagrama de dispersión\n",
        "plt.scatter(x, y)\n",
        "plt.xlabel('VERIZON')\n",
        "plt.ylabel('SPRINT')\n",
        "\n",
        "# Agregar la línea recta al gráfico\n",
        "plt.plot(x, m*x + b, color='red')\n",
        "\n",
        "# Mostrar el gráfico\n",
        "plt.show()\n",
        "\n",
        "# Pendiente de la recta\n",
        "print('Pendiente:', m)"
      ],
      "metadata": {
        "colab": {
          "base_uri": "https://localhost:8080/",
          "height": 466
        },
        "id": "UiaYp0wwmWmU",
        "outputId": "b5c959f1-53d5-4981-ff6e-cd4393d2b40f"
      },
      "execution_count": null,
      "outputs": [
        {
          "output_type": "display_data",
          "data": {
            "text/plain": [
              "<Figure size 640x480 with 1 Axes>"
            ],
            "image/png": "[encoded data removed]"
          },
          "metadata": {}
        },
        {
          "output_type": "stream",
          "name": "stdout",
          "text": [
            "Pendiente: 0.09850718523868579\n"
          ]
        }
      ]
    },
    {
      "cell_type": "markdown",
      "source": [
        "Encontrar el valor de b"
      ],
      "metadata": {
        "id": "tD4wxS7ruaO9"
      }
    },
    {
      "cell_type": "code",
      "source": [
        "#valor de b \n",
        "\n",
        "# Datos\n",
        "x = df['VERIZON']\n",
        "y = df['SPRINT']\n",
        "\n",
        "# Ajuste de la línea recta\n",
        "m, b = np.polyfit(x, y, 1)\n",
        "\n",
        "# Valor de \"b\"\n",
        "print('Valor de b:', b)\n"
      ],
      "metadata": {
        "colab": {
          "base_uri": "https://localhost:8080/"
        },
        "id": "JVQnmhkumdO8",
        "outputId": "56bb2bdb-e95d-4b6f-bdf7-e234bf43e8f7"
      },
      "execution_count": null,
      "outputs": [
        {
          "output_type": "stream",
          "name": "stdout",
          "text": [
            "Valor de b: 1.9764705541696082\n"
          ]
        }
      ]
    },
    {
      "cell_type": "markdown",
      "source": [
        " Ecuación de la recta de regresión lineal"
      ],
      "metadata": {
        "id": "UOwrifQnuhDm"
      }
    },
    {
      "cell_type": "code",
      "source": [
        "#ecuacion\n",
        "\n",
        "# Datos\n",
        "x = df['VERIZON']\n",
        "y = df['SPRINT']\n",
        "\n",
        "# Ajuste de la línea recta\n",
        "m, b = np.polyfit(x, y, 1)\n",
        "\n",
        "# Ecuación de la recta\n",
        "equation = f\"y = {m}x + {b}\"\n",
        "\n",
        "# Mostrar la ecuación de la recta\n",
        "print(\"Ecuación de la recta:\")\n",
        "print(equation)\n"
      ],
      "metadata": {
        "colab": {
          "base_uri": "https://localhost:8080/"
        },
        "id": "TP1D08C9nORo",
        "outputId": "bc49e47f-f8f3-4fd7-a8be-7ceac98a5154"
      },
      "execution_count": null,
      "outputs": [
        {
          "output_type": "stream",
          "name": "stdout",
          "text": [
            "Ecuación de la recta:\n",
            "y = 0.09850718523868579x + 1.9764705541696082\n"
          ]
        }
      ]
    },
    {
      "cell_type": "markdown",
      "source": [
        "Predicción de las variables correlacionadas"
      ],
      "metadata": {
        "id": "rTLR12I4uow2"
      }
    },
    {
      "cell_type": "markdown",
      "source": [
        "Prediccion de las variables correlacionadas"
      ],
      "metadata": {
        "id": "KPcLNNXNu68w"
      }
    },
    {
      "cell_type": "code",
      "source": [
        "# Valores de la variable independiente (x)\n",
        "x_pred = np.array([30, 40, 50])\n",
        "\n",
        "# Calcular la predicción utilizando la ecuación de la recta\n",
        "y_pred = m * x_pred + b\n",
        "\n",
        "# Mostrar los resultados de la predicción\n",
        "print(\"Predicción:\")\n",
        "for i in range(len(x_pred)):\n",
        "    print(f\"Para x = {x_pred[i]}, y = {y_pred[i]}\")\n"
      ],
      "metadata": {
        "colab": {
          "base_uri": "https://localhost:8080/"
        },
        "id": "B8YheAnvpu5Y",
        "outputId": "b98af747-dd1e-4e20-e4d6-98c2e3491d59"
      },
      "execution_count": null,
      "outputs": [
        {
          "output_type": "stream",
          "name": "stdout",
          "text": [
            "Predicción:\n",
            "Para x = 30, y = 4.931686111330181\n",
            "Para x = 40, y = 5.916757963717037\n",
            "Para x = 50, y = 6.901829816103893\n"
          ]
        }
      ]
    },
    {
      "cell_type": "markdown",
      "source": [
        "Hacer en un mismo figure la gràfica de dispersión y la recta de regresión lineal "
      ],
      "metadata": {
        "id": "_Wi5emFivBgh"
      }
    },
    {
      "cell_type": "code",
      "source": [
        "# Datos\n",
        "x = df['VERIZON']\n",
        "y = df['SPRINT']\n",
        "\n",
        "# Calcular la pendiente (m) y la ordenada al origen (b)\n",
        "n = len(x)\n",
        "sum_x = np.sum(x)\n",
        "sum_y = np.sum(y)\n",
        "sum_x_squared = np.sum(x**2)\n",
        "sum_xy = np.sum(x*y)\n",
        "m = (n * sum_xy - sum_x * sum_y) / (n * sum_x_squared - sum_x**2)\n",
        "b = (sum_y - m * sum_x) / n\n",
        "\n",
        "# Crear el figure y los subplots\n",
        "fig, ax = plt.subplots()\n",
        "\n",
        "# Graficar la dispersión de los puntos\n",
        "ax.scatter(x, y, color='blue', label='Datos')\n",
        "\n",
        "# Calcular los valores de y predichos por la recta de regresión\n",
        "y_pred = m * x + b\n",
        "\n",
        "# Graficar la recta de regresión\n",
        "ax.plot(x, y_pred, color='red', label='Recta de Regresión')\n",
        "\n",
        "# Configurar los ejes y los títulos\n",
        "ax.set_xlabel('VERIZON')\n",
        "ax.set_ylabel('SPRINT')\n",
        "ax.set_title('Gráfica de Dispersión y Recta de Regresión')\n",
        "ax.legend()\n",
        "\n",
        "# Mostrar la figura\n",
        "plt.show()"
      ],
      "metadata": {
        "colab": {
          "base_uri": "https://localhost:8080/",
          "height": 472
        },
        "id": "j31n9ofRrvl0",
        "outputId": "bef068cf-1649-40e7-def5-97a927454903"
      },
      "execution_count": null,
      "outputs": [
        {
          "output_type": "display_data",
          "data": {
            "text/plain": [
              "<Figure size 640x480 with 1 Axes>"
            ],
            "image/png": "[encoded data removed]"
          },
          "metadata": {}
        }
      ]
    }
  ]
}